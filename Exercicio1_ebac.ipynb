{
  "nbformat": 4,
  "nbformat_minor": 0,
  "metadata": {
    "colab": {
      "provenance": []
    },
    "kernelspec": {
      "name": "python3",
      "display_name": "Python 3"
    },
    "language_info": {
      "name": "python"
    }
  },
  "cells": [
    {
      "cell_type": "code",
      "execution_count": null,
      "metadata": {
        "id": "BRMSLua7xEKk"
      },
      "outputs": [],
      "source": []
    },
    {
      "cell_type": "markdown",
      "source": [
        "1. Utilize o comando ‘input’ para receber ao menos 2 números de entrada do usuário;\n",
        "\n",
        "2. Converta os valores recebidos pelo usuário para número inteiro (int) ou ponto flutuante (float);\n",
        "\n",
        "3. Implemente ao menos 4 operações matemáticas em seu código;\n",
        "\n",
        "4. Adicione um laço de repetição ou uma condicional. Por exemplo: você pode permitir que o usuário escolha qual operação realizar ou criar um loop que permita ao usuário realizar várias operações consecutivas;\n",
        "\n",
        "5. Utilize o comando ‘print’ para exibir o resultado da operação matemática."
      ],
      "metadata": {
        "id": "OY0imyzExFEK"
      }
    },
    {
      "cell_type": "code",
      "source": [
        "numero1 = input(\"Digite um número: \")\n",
        "numero2 = input(\"Digite outro número: \")\n",
        "\n",
        "numero1_float = float(numero1)\n",
        "numero2_float = float(numero2)\n",
        "\n",
        "soma = numero1_float + numero2_float\n",
        "subtracao = numero1_float - numero2_float\n",
        "multiplicacao = numero1_float * numero2_float\n",
        "divisao = numero1_float / numero2_float\n",
        "\n",
        "operacoes= [soma, subtracao, multiplicacao, divisao]\n",
        "\n",
        "escolha = input (\"Escolha e escreva uma operação matemática entre: soma, subtracao, multiplicacao ou divisao: \")\n",
        "\n",
        "if escolha.lower() == 'soma':\n",
        "  print (\"A soma desses dois números é igual a\",soma)\n",
        "elif escolha.lower() == 'subtracao':\n",
        "  print (\"A subtração entre esses dois números é igual a\", subtracao)\n",
        "elif escolha.lower()== 'multiplicacao':\n",
        "  print(\"A multiplicacao entre esses dois numeors é igual a\", multiplicacao)\n",
        "elif escolha.lower() == 'divisao':\n",
        "  print (\"A divisão desses dois números é igual a\", divisao)\n",
        "else:\n",
        "  print (\"Escolha uma opção válida\")"
      ],
      "metadata": {
        "colab": {
          "base_uri": "https://localhost:8080/"
        },
        "id": "u6L5mE2jxHU9",
        "outputId": "00f975db-3ffc-4ffe-e18a-136a827db3a3"
      },
      "execution_count": 23,
      "outputs": [
        {
          "output_type": "stream",
          "name": "stdout",
          "text": [
            "Digite um número: 7\n",
            "Digite outro número: 3\n",
            "Escolha e escreva uma operação matemática entre: soma, subtracao, multiplicacao ou divisao: divisao\n",
            "A divisão desses dois números é igual a 2.0\n"
          ]
        }
      ]
    }
  ]
}